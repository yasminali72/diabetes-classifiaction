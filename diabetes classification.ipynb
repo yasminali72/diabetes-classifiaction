{
 "cells": [
  {
   "cell_type": "code",
   "execution_count": 80,
   "id": "b50121a3",
   "metadata": {
    "slideshow": {
     "slide_type": "subslide"
    }
   },
   "outputs": [],
   "source": [
    "import numpy as np\n",
    " #load the data \n",
    "data=np.loadtxt('pima-indians-diabetes.data.csv',delimiter=',')\n",
    "\n",
    "#input\n",
    "input_data=data[0:,0:8]\n",
    "#output\n",
    "output_data=data[:,8]\n",
    "\n",
    "\n"
   ]
  },
  {
   "cell_type": "code",
   "execution_count": 81,
   "id": "570dd45d",
   "metadata": {},
   "outputs": [],
   "source": [
    "from keras.models import Sequential\n",
    "from keras.layers import Dense\n",
    "model=Sequential()\n",
    "model.add(Dense(12,input_dim=8,activation='relu'))\n",
    "model.add(Dense(8,activation='relu'))\n",
    "model.add(Dense(1,activation='sigmoid'))"
   ]
  },
  {
   "cell_type": "code",
   "execution_count": 82,
   "id": "f6bcec09",
   "metadata": {},
   "outputs": [],
   "source": [
    "model.compile(loss='binary_crossentropy',optimizer=\"adam\",metrics=['accuracy'])"
   ]
  },
  {
   "cell_type": "code",
   "execution_count": 83,
   "id": "2fcec7dc",
   "metadata": {},
   "outputs": [
    {
     "data": {
      "text/plain": [
       "<keras.src.callbacks.History at 0x141ffee6810>"
      ]
     },
     "execution_count": 83,
     "metadata": {},
     "output_type": "execute_result"
    }
   ],
   "source": [
    "model.fit(input_data,output_data,epochs=150,batch_size=800,verbose=0)"
   ]
  },
  {
   "cell_type": "code",
   "execution_count": 84,
   "id": "9112854c",
   "metadata": {},
   "outputs": [
    {
     "name": "stdout",
     "output_type": "stream",
     "text": [
      "Accuracy: 64.32%\n"
     ]
    }
   ],
   "source": [
    "accuracy=model.evaluate(input_data,output_data,verbose=0)\n",
    "print(\"Accuracy: %.2f%%\" %(accuracy[1]*100))"
   ]
  },
  {
   "cell_type": "code",
   "execution_count": 85,
   "id": "b99affcb",
   "metadata": {},
   "outputs": [
    {
     "name": "stdout",
     "output_type": "stream",
     "text": [
      "24/24 [==============================] - 0s 2ms/step\n"
     ]
    }
   ],
   "source": [
    "perdictions=(model.predict(input_data)>0.5).astype(int)\n"
   ]
  },
  {
   "cell_type": "code",
   "execution_count": 86,
   "id": "bedf4930",
   "metadata": {},
   "outputs": [
    {
     "name": "stdout",
     "output_type": "stream",
     "text": [
      " [6.0, 148.0, 72.0, 35.0, 0.0, 33.6, 0.627, 50.0] => 0 (expected 1)\n",
      " [1.0, 85.0, 66.0, 29.0, 0.0, 26.6, 0.351, 31.0] => 0 (expected 0)\n",
      " [8.0, 183.0, 64.0, 0.0, 0.0, 23.3, 0.672, 32.0] => 0 (expected 1)\n",
      " [1.0, 89.0, 66.0, 23.0, 94.0, 28.1, 0.167, 21.0] => 0 (expected 0)\n",
      " [0.0, 137.0, 40.0, 35.0, 168.0, 43.1, 2.288, 33.0] => 1 (expected 1)\n",
      " [5.0, 116.0, 74.0, 0.0, 0.0, 25.6, 0.201, 30.0] => 0 (expected 0)\n",
      " [3.0, 78.0, 50.0, 32.0, 88.0, 31.0, 0.248, 26.0] => 0 (expected 1)\n",
      " [10.0, 115.0, 0.0, 0.0, 0.0, 35.3, 0.134, 29.0] => 1 (expected 0)\n",
      " [2.0, 197.0, 70.0, 45.0, 543.0, 30.5, 0.158, 53.0] => 1 (expected 1)\n",
      " [8.0, 125.0, 96.0, 0.0, 0.0, 0.0, 0.232, 54.0] => 0 (expected 1)\n",
      " [4.0, 110.0, 92.0, 0.0, 0.0, 37.6, 0.191, 30.0] => 0 (expected 0)\n",
      " [10.0, 168.0, 74.0, 0.0, 0.0, 38.0, 0.537, 34.0] => 0 (expected 1)\n",
      " [10.0, 139.0, 80.0, 0.0, 0.0, 27.1, 1.441, 57.0] => 0 (expected 0)\n",
      " [1.0, 189.0, 60.0, 23.0, 846.0, 30.1, 0.398, 59.0] => 1 (expected 1)\n",
      " [5.0, 166.0, 72.0, 19.0, 175.0, 25.8, 0.587, 51.0] => 0 (expected 1)\n",
      " [7.0, 100.0, 0.0, 0.0, 0.0, 30.0, 0.484, 32.0] => 1 (expected 1)\n",
      " [0.0, 118.0, 84.0, 47.0, 230.0, 45.8, 0.551, 31.0] => 0 (expected 1)\n",
      " [7.0, 107.0, 74.0, 0.0, 0.0, 29.6, 0.254, 31.0] => 0 (expected 1)\n",
      " [1.0, 103.0, 30.0, 38.0, 83.0, 43.3, 0.183, 33.0] => 1 (expected 0)\n",
      " [1.0, 115.0, 70.0, 30.0, 96.0, 34.6, 0.529, 32.0] => 0 (expected 1)\n",
      " [3.0, 126.0, 88.0, 41.0, 235.0, 39.3, 0.704, 27.0] => 0 (expected 0)\n",
      " [8.0, 99.0, 84.0, 0.0, 0.0, 35.4, 0.388, 50.0] => 0 (expected 0)\n",
      " [7.0, 196.0, 90.0, 0.0, 0.0, 39.8, 0.451, 41.0] => 0 (expected 1)\n",
      " [9.0, 119.0, 80.0, 35.0, 0.0, 29.0, 0.263, 29.0] => 0 (expected 1)\n",
      " [11.0, 143.0, 94.0, 33.0, 146.0, 36.6, 0.254, 51.0] => 0 (expected 1)\n",
      " [10.0, 125.0, 70.0, 26.0, 115.0, 31.1, 0.205, 41.0] => 0 (expected 1)\n",
      " [7.0, 147.0, 76.0, 0.0, 0.0, 39.4, 0.257, 43.0] => 0 (expected 1)\n",
      " [1.0, 97.0, 66.0, 15.0, 140.0, 23.2, 0.487, 22.0] => 0 (expected 0)\n",
      " [13.0, 145.0, 82.0, 19.0, 110.0, 22.2, 0.245, 57.0] => 0 (expected 0)\n",
      " [5.0, 117.0, 92.0, 0.0, 0.0, 34.1, 0.337, 38.0] => 0 (expected 0)\n",
      " [5.0, 109.0, 75.0, 26.0, 0.0, 36.0, 0.546, 60.0] => 0 (expected 0)\n",
      " [3.0, 158.0, 76.0, 36.0, 245.0, 31.6, 0.851, 28.0] => 0 (expected 1)\n",
      " [3.0, 88.0, 58.0, 11.0, 54.0, 24.8, 0.267, 22.0] => 0 (expected 0)\n",
      " [6.0, 92.0, 92.0, 0.0, 0.0, 19.9, 0.188, 28.0] => 0 (expected 0)\n",
      " [10.0, 122.0, 78.0, 31.0, 0.0, 27.6, 0.512, 45.0] => 0 (expected 0)\n",
      " [4.0, 103.0, 60.0, 33.0, 192.0, 24.0, 0.966, 33.0] => 0 (expected 0)\n",
      " [11.0, 138.0, 76.0, 0.0, 0.0, 33.2, 0.42, 35.0] => 0 (expected 0)\n",
      " [9.0, 102.0, 76.0, 37.0, 0.0, 32.9, 0.665, 46.0] => 0 (expected 1)\n",
      " [2.0, 90.0, 68.0, 42.0, 0.0, 38.2, 0.503, 27.0] => 0 (expected 1)\n",
      " [4.0, 111.0, 72.0, 47.0, 207.0, 37.1, 1.39, 56.0] => 1 (expected 1)\n",
      " [3.0, 180.0, 64.0, 25.0, 70.0, 34.0, 0.271, 26.0] => 0 (expected 0)\n",
      " [7.0, 133.0, 84.0, 0.0, 0.0, 40.2, 0.696, 37.0] => 0 (expected 0)\n",
      " [7.0, 106.0, 92.0, 18.0, 0.0, 22.7, 0.235, 48.0] => 0 (expected 0)\n",
      " [9.0, 171.0, 110.0, 24.0, 240.0, 45.4, 0.721, 54.0] => 0 (expected 1)\n",
      " [7.0, 159.0, 64.0, 0.0, 0.0, 27.4, 0.294, 40.0] => 0 (expected 0)\n",
      " [0.0, 180.0, 66.0, 39.0, 0.0, 42.0, 1.893, 25.0] => 0 (expected 1)\n",
      " [1.0, 146.0, 56.0, 0.0, 0.0, 29.7, 0.564, 29.0] => 0 (expected 0)\n",
      " [2.0, 71.0, 70.0, 27.0, 0.0, 28.0, 0.586, 22.0] => 0 (expected 0)\n",
      " [7.0, 103.0, 66.0, 32.0, 0.0, 39.1, 0.344, 31.0] => 0 (expected 1)\n",
      " [7.0, 105.0, 0.0, 0.0, 0.0, 0.0, 0.305, 24.0] => 1 (expected 0)\n"
     ]
    }
   ],
   "source": [
    "for i in range(50):\n",
    "    print(\" %s => %d (expected %d)\" % (input_data[i].tolist(),perdictions[i],output_data[i]))\n"
   ]
  },
  {
   "cell_type": "code",
   "execution_count": null,
   "id": "ca313301",
   "metadata": {},
   "outputs": [],
   "source": []
  },
  {
   "cell_type": "code",
   "execution_count": null,
   "id": "f180f12e",
   "metadata": {},
   "outputs": [],
   "source": []
  }
 ],
 "metadata": {
  "kernelspec": {
   "display_name": "Python 3 (ipykernel)",
   "language": "python",
   "name": "python3"
  },
  "language_info": {
   "codemirror_mode": {
    "name": "ipython",
    "version": 3
   },
   "file_extension": ".py",
   "mimetype": "text/x-python",
   "name": "python",
   "nbconvert_exporter": "python",
   "pygments_lexer": "ipython3",
   "version": "3.11.4"
  }
 },
 "nbformat": 4,
 "nbformat_minor": 5
}
